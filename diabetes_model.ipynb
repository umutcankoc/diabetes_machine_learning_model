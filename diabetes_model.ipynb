{
 "cells": [
  {
   "cell_type": "code",
   "execution_count": 58,
   "id": "6544b6e8",
   "metadata": {},
   "outputs": [],
   "source": [
    "import numpy as np\n",
    "import pandas as pd\n",
    "pd.set_option('display.max_columns', None)\n",
    "# pd.set_option('display.max_rows', None)\n",
    "pd.set_option('display.float_format', lambda x: '%.5f' % x)\n",
    "import seaborn as sns\n",
    "from matplotlib import pyplot as plt\n",
    "from datetime import date\n",
    "from sklearn.model_selection import GridSearchCV, cross_validate, RandomizedSearchCV, validation_curve, train_test_split\n",
    "from sklearn.preprocessing import MinMaxScaler, LabelEncoder, StandardScaler, RobustScaler\n",
    "from sklearn.metrics import accuracy_score, confusion_matrix, classification_report,f1_score,recall_score,roc_auc_score, roc_curve\n",
    "from xgboost import XGBClassifier\n",
    "from lightgbm import LGBMClassifier"
   ]
  },
  {
   "cell_type": "code",
   "execution_count": 8,
   "id": "96704e31",
   "metadata": {},
   "outputs": [
    {
     "data": {
      "text/html": [
       "<div>\n",
       "<style scoped>\n",
       "    .dataframe tbody tr th:only-of-type {\n",
       "        vertical-align: middle;\n",
       "    }\n",
       "\n",
       "    .dataframe tbody tr th {\n",
       "        vertical-align: top;\n",
       "    }\n",
       "\n",
       "    .dataframe thead th {\n",
       "        text-align: right;\n",
       "    }\n",
       "</style>\n",
       "<table border=\"1\" class=\"dataframe\">\n",
       "  <thead>\n",
       "    <tr style=\"text-align: right;\">\n",
       "      <th></th>\n",
       "      <th>Pregnancies</th>\n",
       "      <th>Glucose</th>\n",
       "      <th>BloodPressure</th>\n",
       "      <th>SkinThickness</th>\n",
       "      <th>Insulin</th>\n",
       "      <th>BMI</th>\n",
       "      <th>DiabetesPedigreeFunction</th>\n",
       "      <th>Age</th>\n",
       "      <th>Outcome</th>\n",
       "    </tr>\n",
       "  </thead>\n",
       "  <tbody>\n",
       "    <tr>\n",
       "      <th>0</th>\n",
       "      <td>6</td>\n",
       "      <td>148</td>\n",
       "      <td>72</td>\n",
       "      <td>35</td>\n",
       "      <td>0</td>\n",
       "      <td>33.60000</td>\n",
       "      <td>0.62700</td>\n",
       "      <td>50</td>\n",
       "      <td>1</td>\n",
       "    </tr>\n",
       "    <tr>\n",
       "      <th>1</th>\n",
       "      <td>1</td>\n",
       "      <td>85</td>\n",
       "      <td>66</td>\n",
       "      <td>29</td>\n",
       "      <td>0</td>\n",
       "      <td>26.60000</td>\n",
       "      <td>0.35100</td>\n",
       "      <td>31</td>\n",
       "      <td>0</td>\n",
       "    </tr>\n",
       "    <tr>\n",
       "      <th>2</th>\n",
       "      <td>8</td>\n",
       "      <td>183</td>\n",
       "      <td>64</td>\n",
       "      <td>0</td>\n",
       "      <td>0</td>\n",
       "      <td>23.30000</td>\n",
       "      <td>0.67200</td>\n",
       "      <td>32</td>\n",
       "      <td>1</td>\n",
       "    </tr>\n",
       "    <tr>\n",
       "      <th>3</th>\n",
       "      <td>1</td>\n",
       "      <td>89</td>\n",
       "      <td>66</td>\n",
       "      <td>23</td>\n",
       "      <td>94</td>\n",
       "      <td>28.10000</td>\n",
       "      <td>0.16700</td>\n",
       "      <td>21</td>\n",
       "      <td>0</td>\n",
       "    </tr>\n",
       "    <tr>\n",
       "      <th>4</th>\n",
       "      <td>0</td>\n",
       "      <td>137</td>\n",
       "      <td>40</td>\n",
       "      <td>35</td>\n",
       "      <td>168</td>\n",
       "      <td>43.10000</td>\n",
       "      <td>2.28800</td>\n",
       "      <td>33</td>\n",
       "      <td>1</td>\n",
       "    </tr>\n",
       "  </tbody>\n",
       "</table>\n",
       "</div>"
      ],
      "text/plain": [
       "   Pregnancies  Glucose  BloodPressure  SkinThickness  Insulin      BMI  \\\n",
       "0            6      148             72             35        0 33.60000   \n",
       "1            1       85             66             29        0 26.60000   \n",
       "2            8      183             64              0        0 23.30000   \n",
       "3            1       89             66             23       94 28.10000   \n",
       "4            0      137             40             35      168 43.10000   \n",
       "\n",
       "   DiabetesPedigreeFunction  Age  Outcome  \n",
       "0                   0.62700   50        1  \n",
       "1                   0.35100   31        0  \n",
       "2                   0.67200   32        1  \n",
       "3                   0.16700   21        0  \n",
       "4                   2.28800   33        1  "
      ]
     },
     "execution_count": 8,
     "metadata": {},
     "output_type": "execute_result"
    }
   ],
   "source": [
    "#Veri setini çağıralım\n",
    "df = pd.read_csv(\"diabetes.csv\")\n",
    "df.head()"
   ]
  },
  {
   "cell_type": "code",
   "execution_count": 9,
   "id": "4392f44d",
   "metadata": {},
   "outputs": [],
   "source": [
    "#Kategorik ve Nümerik değişkenleri tespit edelim."
   ]
  },
  {
   "cell_type": "code",
   "execution_count": 12,
   "id": "9889b1f7",
   "metadata": {},
   "outputs": [
    {
     "name": "stdout",
     "output_type": "stream",
     "text": [
      "Observations: 768\n",
      "Variables: 9\n",
      "cat_cols: 1\n",
      "num_cols: 8\n",
      "cat_but_car: 0\n",
      "num_but_cat: 1\n"
     ]
    }
   ],
   "source": [
    "def grab_col_names(dataframe, cat_th=10, car_th=20):\n",
    "    \"\"\"\n",
    "\n",
    "    Veri setindeki kategorik, numerik ve kategorik fakat kardinal değişkenlerin isimlerini verir.\n",
    "    Not: Kategorik değişkenlerin içerisine numerik görünümlü kategorik değişkenler de dahildir.\n",
    "\n",
    "    Parameters\n",
    "    ------\n",
    "        dataframe: dataframe\n",
    "                Değişken isimleri alınmak istenilen dataframe\n",
    "        cat_th: int, optional\n",
    "                numerik fakat kategorik olan değişkenler için sınıf eşik değeri\n",
    "        car_th: int, optinal\n",
    "                kategorik fakat kardinal değişkenler için sınıf eşik değeri\n",
    "\n",
    "    Returns\n",
    "    ------\n",
    "        cat_cols: list\n",
    "                Kategorik değişken listesi\n",
    "        num_cols: list\n",
    "                Numerik değişken listesi\n",
    "        cat_but_car: list\n",
    "                Kategorik görünümlü kardinal değişken listesi\n",
    "\n",
    "    Examples\n",
    "    ------\n",
    "        import seaborn as sns\n",
    "        df = sns.load_dataset(\"iris\")\n",
    "        print(grab_col_names(df))\n",
    "\n",
    "\n",
    "    Notes\n",
    "    ------\n",
    "        cat_cols + num_cols + cat_but_car = toplam değişken sayısı\n",
    "        num_but_cat cat_cols'un içerisinde.\n",
    "        Return olan 3 liste toplamı toplam değişken sayısına eşittir: cat_cols + num_cols + cat_but_car = değişken sayısı\n",
    "\n",
    "    \"\"\"\n",
    "\n",
    "    # cat_cols, cat_but_car\n",
    "    cat_cols = [col for col in dataframe.columns if dataframe[col].dtypes == \"O\"]\n",
    "    num_but_cat = [col for col in dataframe.columns if dataframe[col].nunique() < cat_th and\n",
    "                   dataframe[col].dtypes != \"O\"]\n",
    "    cat_but_car = [col for col in dataframe.columns if dataframe[col].nunique() > car_th and\n",
    "                   dataframe[col].dtypes == \"O\"]\n",
    "    cat_cols = cat_cols + num_but_cat\n",
    "    cat_cols = [col for col in cat_cols if col not in cat_but_car]\n",
    "\n",
    "    # num_cols\n",
    "    num_cols = [col for col in dataframe.columns if dataframe[col].dtypes != \"O\"]\n",
    "    num_cols = [col for col in num_cols if col not in num_but_cat]\n",
    "\n",
    "    print(f\"Observations: {dataframe.shape[0]}\")\n",
    "    print(f\"Variables: {dataframe.shape[1]}\")\n",
    "    print(f'cat_cols: {len(cat_cols)}')\n",
    "    print(f'num_cols: {len(num_cols)}')\n",
    "    print(f'cat_but_car: {len(cat_but_car)}')\n",
    "    print(f'num_but_cat: {len(num_but_cat)}')\n",
    "    return cat_cols, num_cols, cat_but_car\n",
    "\n",
    "cat_cols, num_cols, cat_but_car = grab_col_names(df)"
   ]
  },
  {
   "cell_type": "code",
   "execution_count": 13,
   "id": "932a4ee7",
   "metadata": {},
   "outputs": [],
   "source": [
    "# 768 Gözlem \n",
    "# 9 Değişken\n",
    "# 1 kategorik değişken\n",
    "# 8 nümerik değişken\n",
    "# 8 nümerik değişkenden birisi nümerik görünümlü olup aslında kategorik değişkendir."
   ]
  },
  {
   "cell_type": "code",
   "execution_count": 22,
   "id": "2feed12c",
   "metadata": {
    "scrolled": true
   },
   "outputs": [
    {
     "name": "stdout",
     "output_type": "stream",
     "text": [
      "<class 'pandas.core.frame.DataFrame'>\n",
      "RangeIndex: 768 entries, 0 to 767\n",
      "Data columns (total 9 columns):\n",
      " #   Column                    Non-Null Count  Dtype  \n",
      "---  ------                    --------------  -----  \n",
      " 0   Pregnancies               768 non-null    int64  \n",
      " 1   Glucose                   768 non-null    int64  \n",
      " 2   BloodPressure             768 non-null    int64  \n",
      " 3   SkinThickness             768 non-null    int64  \n",
      " 4   Insulin                   768 non-null    int64  \n",
      " 5   BMI                       768 non-null    float64\n",
      " 6   DiabetesPedigreeFunction  768 non-null    float64\n",
      " 7   Age                       768 non-null    int64  \n",
      " 8   Outcome                   768 non-null    int64  \n",
      "dtypes: float64(2), int64(7)\n",
      "memory usage: 54.1 KB\n"
     ]
    }
   ],
   "source": [
    "df.info()"
   ]
  },
  {
   "cell_type": "code",
   "execution_count": 23,
   "id": "db90f57e",
   "metadata": {
    "scrolled": true
   },
   "outputs": [
    {
     "data": {
      "text/html": [
       "<div>\n",
       "<style scoped>\n",
       "    .dataframe tbody tr th:only-of-type {\n",
       "        vertical-align: middle;\n",
       "    }\n",
       "\n",
       "    .dataframe tbody tr th {\n",
       "        vertical-align: top;\n",
       "    }\n",
       "\n",
       "    .dataframe thead th {\n",
       "        text-align: right;\n",
       "    }\n",
       "</style>\n",
       "<table border=\"1\" class=\"dataframe\">\n",
       "  <thead>\n",
       "    <tr style=\"text-align: right;\">\n",
       "      <th></th>\n",
       "      <th>count</th>\n",
       "      <th>mean</th>\n",
       "      <th>std</th>\n",
       "      <th>min</th>\n",
       "      <th>25%</th>\n",
       "      <th>50%</th>\n",
       "      <th>75%</th>\n",
       "      <th>max</th>\n",
       "    </tr>\n",
       "  </thead>\n",
       "  <tbody>\n",
       "    <tr>\n",
       "      <th>Pregnancies</th>\n",
       "      <td>768.00000</td>\n",
       "      <td>3.84505</td>\n",
       "      <td>3.36958</td>\n",
       "      <td>0.00000</td>\n",
       "      <td>1.00000</td>\n",
       "      <td>3.00000</td>\n",
       "      <td>6.00000</td>\n",
       "      <td>17.00000</td>\n",
       "    </tr>\n",
       "    <tr>\n",
       "      <th>Glucose</th>\n",
       "      <td>768.00000</td>\n",
       "      <td>120.89453</td>\n",
       "      <td>31.97262</td>\n",
       "      <td>0.00000</td>\n",
       "      <td>99.00000</td>\n",
       "      <td>117.00000</td>\n",
       "      <td>140.25000</td>\n",
       "      <td>199.00000</td>\n",
       "    </tr>\n",
       "    <tr>\n",
       "      <th>BloodPressure</th>\n",
       "      <td>768.00000</td>\n",
       "      <td>69.10547</td>\n",
       "      <td>19.35581</td>\n",
       "      <td>0.00000</td>\n",
       "      <td>62.00000</td>\n",
       "      <td>72.00000</td>\n",
       "      <td>80.00000</td>\n",
       "      <td>122.00000</td>\n",
       "    </tr>\n",
       "    <tr>\n",
       "      <th>SkinThickness</th>\n",
       "      <td>768.00000</td>\n",
       "      <td>20.53646</td>\n",
       "      <td>15.95222</td>\n",
       "      <td>0.00000</td>\n",
       "      <td>0.00000</td>\n",
       "      <td>23.00000</td>\n",
       "      <td>32.00000</td>\n",
       "      <td>99.00000</td>\n",
       "    </tr>\n",
       "    <tr>\n",
       "      <th>Insulin</th>\n",
       "      <td>768.00000</td>\n",
       "      <td>79.79948</td>\n",
       "      <td>115.24400</td>\n",
       "      <td>0.00000</td>\n",
       "      <td>0.00000</td>\n",
       "      <td>30.50000</td>\n",
       "      <td>127.25000</td>\n",
       "      <td>846.00000</td>\n",
       "    </tr>\n",
       "    <tr>\n",
       "      <th>BMI</th>\n",
       "      <td>768.00000</td>\n",
       "      <td>31.99258</td>\n",
       "      <td>7.88416</td>\n",
       "      <td>0.00000</td>\n",
       "      <td>27.30000</td>\n",
       "      <td>32.00000</td>\n",
       "      <td>36.60000</td>\n",
       "      <td>67.10000</td>\n",
       "    </tr>\n",
       "    <tr>\n",
       "      <th>DiabetesPedigreeFunction</th>\n",
       "      <td>768.00000</td>\n",
       "      <td>0.47188</td>\n",
       "      <td>0.33133</td>\n",
       "      <td>0.07800</td>\n",
       "      <td>0.24375</td>\n",
       "      <td>0.37250</td>\n",
       "      <td>0.62625</td>\n",
       "      <td>2.42000</td>\n",
       "    </tr>\n",
       "    <tr>\n",
       "      <th>Age</th>\n",
       "      <td>768.00000</td>\n",
       "      <td>33.24089</td>\n",
       "      <td>11.76023</td>\n",
       "      <td>21.00000</td>\n",
       "      <td>24.00000</td>\n",
       "      <td>29.00000</td>\n",
       "      <td>41.00000</td>\n",
       "      <td>81.00000</td>\n",
       "    </tr>\n",
       "    <tr>\n",
       "      <th>Outcome</th>\n",
       "      <td>768.00000</td>\n",
       "      <td>0.34896</td>\n",
       "      <td>0.47695</td>\n",
       "      <td>0.00000</td>\n",
       "      <td>0.00000</td>\n",
       "      <td>0.00000</td>\n",
       "      <td>1.00000</td>\n",
       "      <td>1.00000</td>\n",
       "    </tr>\n",
       "  </tbody>\n",
       "</table>\n",
       "</div>"
      ],
      "text/plain": [
       "                             count      mean       std      min      25%  \\\n",
       "Pregnancies              768.00000   3.84505   3.36958  0.00000  1.00000   \n",
       "Glucose                  768.00000 120.89453  31.97262  0.00000 99.00000   \n",
       "BloodPressure            768.00000  69.10547  19.35581  0.00000 62.00000   \n",
       "SkinThickness            768.00000  20.53646  15.95222  0.00000  0.00000   \n",
       "Insulin                  768.00000  79.79948 115.24400  0.00000  0.00000   \n",
       "BMI                      768.00000  31.99258   7.88416  0.00000 27.30000   \n",
       "DiabetesPedigreeFunction 768.00000   0.47188   0.33133  0.07800  0.24375   \n",
       "Age                      768.00000  33.24089  11.76023 21.00000 24.00000   \n",
       "Outcome                  768.00000   0.34896   0.47695  0.00000  0.00000   \n",
       "\n",
       "                               50%       75%       max  \n",
       "Pregnancies                3.00000   6.00000  17.00000  \n",
       "Glucose                  117.00000 140.25000 199.00000  \n",
       "BloodPressure             72.00000  80.00000 122.00000  \n",
       "SkinThickness             23.00000  32.00000  99.00000  \n",
       "Insulin                   30.50000 127.25000 846.00000  \n",
       "BMI                       32.00000  36.60000  67.10000  \n",
       "DiabetesPedigreeFunction   0.37250   0.62625   2.42000  \n",
       "Age                       29.00000  41.00000  81.00000  \n",
       "Outcome                    0.00000   1.00000   1.00000  "
      ]
     },
     "execution_count": 23,
     "metadata": {},
     "output_type": "execute_result"
    }
   ],
   "source": [
    "df.describe().T"
   ]
  },
  {
   "cell_type": "code",
   "execution_count": 24,
   "id": "28354bef",
   "metadata": {},
   "outputs": [],
   "source": [
    "# Min ve Max değerleri arasında ki farklar göz önüne alındığında aykırı değerlerin varlığından söz edebiliriz."
   ]
  },
  {
   "cell_type": "markdown",
   "id": "b2de9c75",
   "metadata": {},
   "source": [
    "# Aykırı Değer Analizi"
   ]
  },
  {
   "cell_type": "code",
   "execution_count": 15,
   "id": "d4dca02e",
   "metadata": {},
   "outputs": [],
   "source": [
    "def outlier_thresholds(dataframe, col_name, q1=0.25, q3=0.75):\n",
    "    quartile1 = dataframe[col_name].quantile(q1)\n",
    "    quartile3 = dataframe[col_name].quantile(q3)\n",
    "    interquantile_range = quartile3 - quartile1\n",
    "    up_limit = quartile3 + 1.5 * interquantile_range\n",
    "    low_limit = quartile1 - 1.5 * interquantile_range\n",
    "    return low_limit, up_limit"
   ]
  },
  {
   "cell_type": "code",
   "execution_count": 16,
   "id": "57043a7f",
   "metadata": {},
   "outputs": [],
   "source": [
    "def check_outlier(dataframe, col_name):\n",
    "    low_limit, up_limit = outlier_thresholds(dataframe, col_name)\n",
    "    if dataframe[(dataframe[col_name] > up_limit) | (dataframe[col_name] < low_limit)].any(axis=None):\n",
    "        return True\n",
    "    else:\n",
    "        return False"
   ]
  },
  {
   "cell_type": "code",
   "execution_count": 20,
   "id": "8167700f",
   "metadata": {},
   "outputs": [
    {
     "name": "stdout",
     "output_type": "stream",
     "text": [
      "Pregnancies True\n",
      "Glucose True\n",
      "BloodPressure True\n",
      "SkinThickness True\n",
      "Insulin True\n",
      "BMI True\n",
      "DiabetesPedigreeFunction True\n",
      "Age True\n"
     ]
    }
   ],
   "source": [
    "for col in num_cols:\n",
    "    print(col, check_outlier(df, col))"
   ]
  },
  {
   "cell_type": "code",
   "execution_count": 18,
   "id": "8fceb986",
   "metadata": {},
   "outputs": [],
   "source": [
    "# Tüm değişkenler aykırı değere sahiptir."
   ]
  },
  {
   "cell_type": "code",
   "execution_count": null,
   "id": "ea0a23f2",
   "metadata": {},
   "outputs": [],
   "source": [
    "# Aykırı değerler için baskılama veya silme yöntemini tercih edebiliriz. Burada kullanacak olduğumuz model etkili olacaktır."
   ]
  },
  {
   "cell_type": "markdown",
   "id": "0a6de181",
   "metadata": {},
   "source": [
    "# Eksik Değer Analizi"
   ]
  },
  {
   "cell_type": "code",
   "execution_count": 25,
   "id": "fed7f40f",
   "metadata": {},
   "outputs": [
    {
     "data": {
      "text/plain": [
       "Pregnancies                 False\n",
       "Glucose                     False\n",
       "BloodPressure               False\n",
       "SkinThickness               False\n",
       "Insulin                     False\n",
       "BMI                         False\n",
       "DiabetesPedigreeFunction    False\n",
       "Age                         False\n",
       "Outcome                     False\n",
       "dtype: bool"
      ]
     },
     "execution_count": 25,
     "metadata": {},
     "output_type": "execute_result"
    }
   ],
   "source": [
    "df.isnull().any()"
   ]
  },
  {
   "cell_type": "code",
   "execution_count": 26,
   "id": "2ca43f14",
   "metadata": {},
   "outputs": [
    {
     "data": {
      "text/plain": [
       "Pregnancies                 0\n",
       "Glucose                     0\n",
       "BloodPressure               0\n",
       "SkinThickness               0\n",
       "Insulin                     0\n",
       "BMI                         0\n",
       "DiabetesPedigreeFunction    0\n",
       "Age                         0\n",
       "Outcome                     0\n",
       "dtype: int64"
      ]
     },
     "execution_count": 26,
     "metadata": {},
     "output_type": "execute_result"
    }
   ],
   "source": [
    "df.isnull().sum()"
   ]
  },
  {
   "cell_type": "code",
   "execution_count": 27,
   "id": "1499f46b",
   "metadata": {},
   "outputs": [],
   "source": [
    "# Veri setinde eksik değer bulunmamaktadır."
   ]
  },
  {
   "cell_type": "code",
   "execution_count": 28,
   "id": "fd2c7b75",
   "metadata": {},
   "outputs": [],
   "source": [
    "# Eksik değer yok ancak Glikoz ve İnsulin gibi değerlerin 0 olması aslında o değerlerin eksik olduğu anlamına gelmektedir. Bu durumda bu değerleri NaN olarak kabul edip işlem yapabiliriz. Ancak bu çalışmada ağaç yöntemeleri kullanacağımız için eksik değerleri görmezden gelebiliriz."
   ]
  },
  {
   "cell_type": "code",
   "execution_count": 52,
   "id": "f3d8c539",
   "metadata": {},
   "outputs": [
    {
     "data": {
      "text/html": [
       "<div>\n",
       "<style scoped>\n",
       "    .dataframe tbody tr th:only-of-type {\n",
       "        vertical-align: middle;\n",
       "    }\n",
       "\n",
       "    .dataframe tbody tr th {\n",
       "        vertical-align: top;\n",
       "    }\n",
       "\n",
       "    .dataframe thead th {\n",
       "        text-align: right;\n",
       "    }\n",
       "</style>\n",
       "<table border=\"1\" class=\"dataframe\">\n",
       "  <thead>\n",
       "    <tr style=\"text-align: right;\">\n",
       "      <th></th>\n",
       "      <th>Pregnancies</th>\n",
       "      <th>Glucose</th>\n",
       "      <th>BloodPressure</th>\n",
       "      <th>SkinThickness</th>\n",
       "      <th>Insulin</th>\n",
       "      <th>BMI</th>\n",
       "      <th>DiabetesPedigreeFunction</th>\n",
       "      <th>Age</th>\n",
       "      <th>Outcome</th>\n",
       "    </tr>\n",
       "  </thead>\n",
       "  <tbody>\n",
       "    <tr>\n",
       "      <th>Pregnancies</th>\n",
       "      <td>1.00000</td>\n",
       "      <td>0.12453</td>\n",
       "      <td>0.13694</td>\n",
       "      <td>-0.08169</td>\n",
       "      <td>-0.07228</td>\n",
       "      <td>0.01910</td>\n",
       "      <td>-0.03248</td>\n",
       "      <td>0.56715</td>\n",
       "      <td>0.22678</td>\n",
       "    </tr>\n",
       "    <tr>\n",
       "      <th>Glucose</th>\n",
       "      <td>0.12453</td>\n",
       "      <td>1.00000</td>\n",
       "      <td>0.15096</td>\n",
       "      <td>0.05954</td>\n",
       "      <td>0.33641</td>\n",
       "      <td>0.22787</td>\n",
       "      <td>0.14126</td>\n",
       "      <td>0.27330</td>\n",
       "      <td>0.47026</td>\n",
       "    </tr>\n",
       "    <tr>\n",
       "      <th>BloodPressure</th>\n",
       "      <td>0.13694</td>\n",
       "      <td>0.15096</td>\n",
       "      <td>1.00000</td>\n",
       "      <td>0.20912</td>\n",
       "      <td>0.08970</td>\n",
       "      <td>0.28468</td>\n",
       "      <td>0.04766</td>\n",
       "      <td>0.25947</td>\n",
       "      <td>0.06272</td>\n",
       "    </tr>\n",
       "    <tr>\n",
       "      <th>SkinThickness</th>\n",
       "      <td>-0.08169</td>\n",
       "      <td>0.05954</td>\n",
       "      <td>0.20912</td>\n",
       "      <td>1.00000</td>\n",
       "      <td>0.43319</td>\n",
       "      <td>0.39047</td>\n",
       "      <td>0.18959</td>\n",
       "      <td>-0.08789</td>\n",
       "      <td>0.07159</td>\n",
       "    </tr>\n",
       "    <tr>\n",
       "      <th>Insulin</th>\n",
       "      <td>-0.07228</td>\n",
       "      <td>0.33641</td>\n",
       "      <td>0.08970</td>\n",
       "      <td>0.43319</td>\n",
       "      <td>1.00000</td>\n",
       "      <td>0.19475</td>\n",
       "      <td>0.18738</td>\n",
       "      <td>-0.02054</td>\n",
       "      <td>0.12983</td>\n",
       "    </tr>\n",
       "    <tr>\n",
       "      <th>BMI</th>\n",
       "      <td>0.01910</td>\n",
       "      <td>0.22787</td>\n",
       "      <td>0.28468</td>\n",
       "      <td>0.39047</td>\n",
       "      <td>0.19475</td>\n",
       "      <td>1.00000</td>\n",
       "      <td>0.14869</td>\n",
       "      <td>0.07429</td>\n",
       "      <td>0.28861</td>\n",
       "    </tr>\n",
       "    <tr>\n",
       "      <th>DiabetesPedigreeFunction</th>\n",
       "      <td>-0.03248</td>\n",
       "      <td>0.14126</td>\n",
       "      <td>0.04766</td>\n",
       "      <td>0.18959</td>\n",
       "      <td>0.18738</td>\n",
       "      <td>0.14869</td>\n",
       "      <td>1.00000</td>\n",
       "      <td>0.02943</td>\n",
       "      <td>0.17812</td>\n",
       "    </tr>\n",
       "    <tr>\n",
       "      <th>Age</th>\n",
       "      <td>0.56715</td>\n",
       "      <td>0.27330</td>\n",
       "      <td>0.25947</td>\n",
       "      <td>-0.08789</td>\n",
       "      <td>-0.02054</td>\n",
       "      <td>0.07429</td>\n",
       "      <td>0.02943</td>\n",
       "      <td>1.00000</td>\n",
       "      <td>0.26627</td>\n",
       "    </tr>\n",
       "    <tr>\n",
       "      <th>Outcome</th>\n",
       "      <td>0.22678</td>\n",
       "      <td>0.47026</td>\n",
       "      <td>0.06272</td>\n",
       "      <td>0.07159</td>\n",
       "      <td>0.12983</td>\n",
       "      <td>0.28861</td>\n",
       "      <td>0.17812</td>\n",
       "      <td>0.26627</td>\n",
       "      <td>1.00000</td>\n",
       "    </tr>\n",
       "  </tbody>\n",
       "</table>\n",
       "</div>"
      ],
      "text/plain": [
       "                          Pregnancies  Glucose  BloodPressure  SkinThickness  \\\n",
       "Pregnancies                   1.00000  0.12453        0.13694       -0.08169   \n",
       "Glucose                       0.12453  1.00000        0.15096        0.05954   \n",
       "BloodPressure                 0.13694  0.15096        1.00000        0.20912   \n",
       "SkinThickness                -0.08169  0.05954        0.20912        1.00000   \n",
       "Insulin                      -0.07228  0.33641        0.08970        0.43319   \n",
       "BMI                           0.01910  0.22787        0.28468        0.39047   \n",
       "DiabetesPedigreeFunction     -0.03248  0.14126        0.04766        0.18959   \n",
       "Age                           0.56715  0.27330        0.25947       -0.08789   \n",
       "Outcome                       0.22678  0.47026        0.06272        0.07159   \n",
       "\n",
       "                          Insulin     BMI  DiabetesPedigreeFunction      Age  \\\n",
       "Pregnancies              -0.07228 0.01910                  -0.03248  0.56715   \n",
       "Glucose                   0.33641 0.22787                   0.14126  0.27330   \n",
       "BloodPressure             0.08970 0.28468                   0.04766  0.25947   \n",
       "SkinThickness             0.43319 0.39047                   0.18959 -0.08789   \n",
       "Insulin                   1.00000 0.19475                   0.18738 -0.02054   \n",
       "BMI                       0.19475 1.00000                   0.14869  0.07429   \n",
       "DiabetesPedigreeFunction  0.18738 0.14869                   1.00000  0.02943   \n",
       "Age                      -0.02054 0.07429                   0.02943  1.00000   \n",
       "Outcome                   0.12983 0.28861                   0.17812  0.26627   \n",
       "\n",
       "                          Outcome  \n",
       "Pregnancies               0.22678  \n",
       "Glucose                   0.47026  \n",
       "BloodPressure             0.06272  \n",
       "SkinThickness             0.07159  \n",
       "Insulin                   0.12983  \n",
       "BMI                       0.28861  \n",
       "DiabetesPedigreeFunction  0.17812  \n",
       "Age                       0.26627  \n",
       "Outcome                   1.00000  "
      ]
     },
     "execution_count": 52,
     "metadata": {},
     "output_type": "execute_result"
    }
   ],
   "source": [
    "df.corr()"
   ]
  },
  {
   "cell_type": "code",
   "execution_count": null,
   "id": "ac871c1a",
   "metadata": {},
   "outputs": [],
   "source": []
  },
  {
   "cell_type": "markdown",
   "id": "1f9a65b0",
   "metadata": {},
   "source": [
    "# Aykırı Değerleri Silme"
   ]
  },
  {
   "cell_type": "code",
   "execution_count": 29,
   "id": "bfe86c80",
   "metadata": {},
   "outputs": [],
   "source": [
    "# Ağaç yöntemlerde aykırı değerlere dokunmaya gerek olmayabilir. Ancak biz bu çalışma da aykırı değerleri sileceğiz."
   ]
  },
  {
   "cell_type": "code",
   "execution_count": 30,
   "id": "e4c4d665",
   "metadata": {},
   "outputs": [],
   "source": [
    "def remove_outlier(dataframe, col_name):\n",
    "    low_limit, up_limit = outlier_thresholds(dataframe, col_name)\n",
    "    df_without_outliers = dataframe[~((dataframe[col_name] < low_limit) | (dataframe[col_name] > up_limit))]\n",
    "    return df_without_outliers\n"
   ]
  },
  {
   "cell_type": "code",
   "execution_count": 31,
   "id": "22c59383",
   "metadata": {},
   "outputs": [
    {
     "data": {
      "text/html": [
       "<div>\n",
       "<style scoped>\n",
       "    .dataframe tbody tr th:only-of-type {\n",
       "        vertical-align: middle;\n",
       "    }\n",
       "\n",
       "    .dataframe tbody tr th {\n",
       "        vertical-align: top;\n",
       "    }\n",
       "\n",
       "    .dataframe thead th {\n",
       "        text-align: right;\n",
       "    }\n",
       "</style>\n",
       "<table border=\"1\" class=\"dataframe\">\n",
       "  <thead>\n",
       "    <tr style=\"text-align: right;\">\n",
       "      <th></th>\n",
       "      <th>Pregnancies</th>\n",
       "      <th>Glucose</th>\n",
       "      <th>BloodPressure</th>\n",
       "      <th>SkinThickness</th>\n",
       "      <th>Insulin</th>\n",
       "      <th>BMI</th>\n",
       "      <th>DiabetesPedigreeFunction</th>\n",
       "      <th>Age</th>\n",
       "      <th>Outcome</th>\n",
       "    </tr>\n",
       "  </thead>\n",
       "  <tbody>\n",
       "    <tr>\n",
       "      <th>0</th>\n",
       "      <td>6</td>\n",
       "      <td>148</td>\n",
       "      <td>72</td>\n",
       "      <td>35</td>\n",
       "      <td>0</td>\n",
       "      <td>33.60000</td>\n",
       "      <td>0.62700</td>\n",
       "      <td>50</td>\n",
       "      <td>1</td>\n",
       "    </tr>\n",
       "    <tr>\n",
       "      <th>1</th>\n",
       "      <td>1</td>\n",
       "      <td>85</td>\n",
       "      <td>66</td>\n",
       "      <td>29</td>\n",
       "      <td>0</td>\n",
       "      <td>26.60000</td>\n",
       "      <td>0.35100</td>\n",
       "      <td>31</td>\n",
       "      <td>0</td>\n",
       "    </tr>\n",
       "    <tr>\n",
       "      <th>2</th>\n",
       "      <td>8</td>\n",
       "      <td>183</td>\n",
       "      <td>64</td>\n",
       "      <td>0</td>\n",
       "      <td>0</td>\n",
       "      <td>23.30000</td>\n",
       "      <td>0.67200</td>\n",
       "      <td>32</td>\n",
       "      <td>1</td>\n",
       "    </tr>\n",
       "    <tr>\n",
       "      <th>3</th>\n",
       "      <td>1</td>\n",
       "      <td>89</td>\n",
       "      <td>66</td>\n",
       "      <td>23</td>\n",
       "      <td>94</td>\n",
       "      <td>28.10000</td>\n",
       "      <td>0.16700</td>\n",
       "      <td>21</td>\n",
       "      <td>0</td>\n",
       "    </tr>\n",
       "    <tr>\n",
       "      <th>4</th>\n",
       "      <td>0</td>\n",
       "      <td>137</td>\n",
       "      <td>40</td>\n",
       "      <td>35</td>\n",
       "      <td>168</td>\n",
       "      <td>43.10000</td>\n",
       "      <td>2.28800</td>\n",
       "      <td>33</td>\n",
       "      <td>1</td>\n",
       "    </tr>\n",
       "  </tbody>\n",
       "</table>\n",
       "</div>"
      ],
      "text/plain": [
       "   Pregnancies  Glucose  BloodPressure  SkinThickness  Insulin      BMI  \\\n",
       "0            6      148             72             35        0 33.60000   \n",
       "1            1       85             66             29        0 26.60000   \n",
       "2            8      183             64              0        0 23.30000   \n",
       "3            1       89             66             23       94 28.10000   \n",
       "4            0      137             40             35      168 43.10000   \n",
       "\n",
       "   DiabetesPedigreeFunction  Age  Outcome  \n",
       "0                   0.62700   50        1  \n",
       "1                   0.35100   31        0  \n",
       "2                   0.67200   32        1  \n",
       "3                   0.16700   21        0  \n",
       "4                   2.28800   33        1  "
      ]
     },
     "execution_count": 31,
     "metadata": {},
     "output_type": "execute_result"
    }
   ],
   "source": [
    "df.head()"
   ]
  },
  {
   "cell_type": "code",
   "execution_count": 32,
   "id": "115e17f1",
   "metadata": {},
   "outputs": [],
   "source": [
    "num_cols = [col for col in num_cols if col not in \"Outcome\"]"
   ]
  },
  {
   "cell_type": "code",
   "execution_count": 33,
   "id": "ab52ed79",
   "metadata": {},
   "outputs": [
    {
     "data": {
      "text/plain": [
       "(768, 9)"
      ]
     },
     "execution_count": 33,
     "metadata": {},
     "output_type": "execute_result"
    }
   ],
   "source": [
    "df.shape"
   ]
  },
  {
   "cell_type": "code",
   "execution_count": 34,
   "id": "c56fdc4f",
   "metadata": {},
   "outputs": [
    {
     "data": {
      "text/plain": [
       "9"
      ]
     },
     "execution_count": 34,
     "metadata": {},
     "output_type": "execute_result"
    }
   ],
   "source": [
    "for col in num_cols:\n",
    "    new_df = remove_outlier(df, col)\n",
    "\n",
    "df.shape[0] - new_df.shape[0]"
   ]
  },
  {
   "cell_type": "code",
   "execution_count": 37,
   "id": "6d1d3534",
   "metadata": {},
   "outputs": [
    {
     "data": {
      "text/plain": [
       "759"
      ]
     },
     "execution_count": 37,
     "metadata": {},
     "output_type": "execute_result"
    }
   ],
   "source": [
    "new_df.shape[0]"
   ]
  },
  {
   "cell_type": "markdown",
   "id": "e75fbec3",
   "metadata": {},
   "source": [
    "# ENCODING İŞLEMLERİ"
   ]
  },
  {
   "cell_type": "code",
   "execution_count": 46,
   "id": "e6318241",
   "metadata": {},
   "outputs": [],
   "source": [
    "def one_hot_encoder(dataframe, categorical_cols, drop_first=True):\n",
    "    dataframe = pd.get_dummies(dataframe, columns=categorical_cols, drop_first=drop_first)\n",
    "    return dataframe"
   ]
  },
  {
   "cell_type": "code",
   "execution_count": 47,
   "id": "fd46b7eb",
   "metadata": {},
   "outputs": [],
   "source": [
    "ohe_cols = [col for col in new_df.columns if 15 >= df[col].nunique() > 2]"
   ]
  },
  {
   "cell_type": "code",
   "execution_count": 48,
   "id": "c3127040",
   "metadata": {},
   "outputs": [],
   "source": [
    "df = one_hot_encoder(new_df, ohe_cols)"
   ]
  },
  {
   "cell_type": "code",
   "execution_count": 49,
   "id": "84ba5713",
   "metadata": {},
   "outputs": [
    {
     "data": {
      "text/html": [
       "<div>\n",
       "<style scoped>\n",
       "    .dataframe tbody tr th:only-of-type {\n",
       "        vertical-align: middle;\n",
       "    }\n",
       "\n",
       "    .dataframe tbody tr th {\n",
       "        vertical-align: top;\n",
       "    }\n",
       "\n",
       "    .dataframe thead th {\n",
       "        text-align: right;\n",
       "    }\n",
       "</style>\n",
       "<table border=\"1\" class=\"dataframe\">\n",
       "  <thead>\n",
       "    <tr style=\"text-align: right;\">\n",
       "      <th></th>\n",
       "      <th>Pregnancies</th>\n",
       "      <th>Glucose</th>\n",
       "      <th>BloodPressure</th>\n",
       "      <th>SkinThickness</th>\n",
       "      <th>Insulin</th>\n",
       "      <th>BMI</th>\n",
       "      <th>DiabetesPedigreeFunction</th>\n",
       "      <th>Age</th>\n",
       "      <th>Outcome</th>\n",
       "    </tr>\n",
       "  </thead>\n",
       "  <tbody>\n",
       "    <tr>\n",
       "      <th>0</th>\n",
       "      <td>6</td>\n",
       "      <td>148</td>\n",
       "      <td>72</td>\n",
       "      <td>35</td>\n",
       "      <td>0</td>\n",
       "      <td>33.60000</td>\n",
       "      <td>0.62700</td>\n",
       "      <td>50</td>\n",
       "      <td>1</td>\n",
       "    </tr>\n",
       "    <tr>\n",
       "      <th>1</th>\n",
       "      <td>1</td>\n",
       "      <td>85</td>\n",
       "      <td>66</td>\n",
       "      <td>29</td>\n",
       "      <td>0</td>\n",
       "      <td>26.60000</td>\n",
       "      <td>0.35100</td>\n",
       "      <td>31</td>\n",
       "      <td>0</td>\n",
       "    </tr>\n",
       "    <tr>\n",
       "      <th>2</th>\n",
       "      <td>8</td>\n",
       "      <td>183</td>\n",
       "      <td>64</td>\n",
       "      <td>0</td>\n",
       "      <td>0</td>\n",
       "      <td>23.30000</td>\n",
       "      <td>0.67200</td>\n",
       "      <td>32</td>\n",
       "      <td>1</td>\n",
       "    </tr>\n",
       "    <tr>\n",
       "      <th>3</th>\n",
       "      <td>1</td>\n",
       "      <td>89</td>\n",
       "      <td>66</td>\n",
       "      <td>23</td>\n",
       "      <td>94</td>\n",
       "      <td>28.10000</td>\n",
       "      <td>0.16700</td>\n",
       "      <td>21</td>\n",
       "      <td>0</td>\n",
       "    </tr>\n",
       "    <tr>\n",
       "      <th>4</th>\n",
       "      <td>0</td>\n",
       "      <td>137</td>\n",
       "      <td>40</td>\n",
       "      <td>35</td>\n",
       "      <td>168</td>\n",
       "      <td>43.10000</td>\n",
       "      <td>2.28800</td>\n",
       "      <td>33</td>\n",
       "      <td>1</td>\n",
       "    </tr>\n",
       "  </tbody>\n",
       "</table>\n",
       "</div>"
      ],
      "text/plain": [
       "   Pregnancies  Glucose  BloodPressure  SkinThickness  Insulin      BMI  \\\n",
       "0            6      148             72             35        0 33.60000   \n",
       "1            1       85             66             29        0 26.60000   \n",
       "2            8      183             64              0        0 23.30000   \n",
       "3            1       89             66             23       94 28.10000   \n",
       "4            0      137             40             35      168 43.10000   \n",
       "\n",
       "   DiabetesPedigreeFunction  Age  Outcome  \n",
       "0                   0.62700   50        1  \n",
       "1                   0.35100   31        0  \n",
       "2                   0.67200   32        1  \n",
       "3                   0.16700   21        0  \n",
       "4                   2.28800   33        1  "
      ]
     },
     "execution_count": 49,
     "metadata": {},
     "output_type": "execute_result"
    }
   ],
   "source": [
    "df.head()"
   ]
  },
  {
   "cell_type": "code",
   "execution_count": 50,
   "id": "eac0b1eb",
   "metadata": {},
   "outputs": [
    {
     "data": {
      "text/plain": [
       "759"
      ]
     },
     "execution_count": 50,
     "metadata": {},
     "output_type": "execute_result"
    }
   ],
   "source": [
    "df.shape[0]"
   ]
  },
  {
   "cell_type": "markdown",
   "id": "4d314a6f",
   "metadata": {},
   "source": [
    "# DEĞİŞKENLERİN STANDARTLAŞTIRILMASI"
   ]
  },
  {
   "cell_type": "code",
   "execution_count": 51,
   "id": "36f871b3",
   "metadata": {},
   "outputs": [
    {
     "data": {
      "text/html": [
       "<div>\n",
       "<style scoped>\n",
       "    .dataframe tbody tr th:only-of-type {\n",
       "        vertical-align: middle;\n",
       "    }\n",
       "\n",
       "    .dataframe tbody tr th {\n",
       "        vertical-align: top;\n",
       "    }\n",
       "\n",
       "    .dataframe thead th {\n",
       "        text-align: right;\n",
       "    }\n",
       "</style>\n",
       "<table border=\"1\" class=\"dataframe\">\n",
       "  <thead>\n",
       "    <tr style=\"text-align: right;\">\n",
       "      <th></th>\n",
       "      <th>Pregnancies</th>\n",
       "      <th>Glucose</th>\n",
       "      <th>BloodPressure</th>\n",
       "      <th>SkinThickness</th>\n",
       "      <th>Insulin</th>\n",
       "      <th>BMI</th>\n",
       "      <th>DiabetesPedigreeFunction</th>\n",
       "      <th>Age</th>\n",
       "      <th>Outcome</th>\n",
       "    </tr>\n",
       "  </thead>\n",
       "  <tbody>\n",
       "    <tr>\n",
       "      <th>0</th>\n",
       "      <td>0.35294</td>\n",
       "      <td>0.74372</td>\n",
       "      <td>0.59016</td>\n",
       "      <td>0.35354</td>\n",
       "      <td>0.00000</td>\n",
       "      <td>0.50075</td>\n",
       "      <td>0.23442</td>\n",
       "      <td>0.64444</td>\n",
       "      <td>1.00000</td>\n",
       "    </tr>\n",
       "    <tr>\n",
       "      <th>1</th>\n",
       "      <td>0.05882</td>\n",
       "      <td>0.42714</td>\n",
       "      <td>0.54098</td>\n",
       "      <td>0.29293</td>\n",
       "      <td>0.00000</td>\n",
       "      <td>0.39642</td>\n",
       "      <td>0.11657</td>\n",
       "      <td>0.22222</td>\n",
       "      <td>0.00000</td>\n",
       "    </tr>\n",
       "    <tr>\n",
       "      <th>2</th>\n",
       "      <td>0.47059</td>\n",
       "      <td>0.91960</td>\n",
       "      <td>0.52459</td>\n",
       "      <td>0.00000</td>\n",
       "      <td>0.00000</td>\n",
       "      <td>0.34724</td>\n",
       "      <td>0.25363</td>\n",
       "      <td>0.24444</td>\n",
       "      <td>1.00000</td>\n",
       "    </tr>\n",
       "    <tr>\n",
       "      <th>3</th>\n",
       "      <td>0.05882</td>\n",
       "      <td>0.44724</td>\n",
       "      <td>0.54098</td>\n",
       "      <td>0.23232</td>\n",
       "      <td>0.11111</td>\n",
       "      <td>0.41878</td>\n",
       "      <td>0.03800</td>\n",
       "      <td>0.00000</td>\n",
       "      <td>0.00000</td>\n",
       "    </tr>\n",
       "    <tr>\n",
       "      <th>4</th>\n",
       "      <td>0.00000</td>\n",
       "      <td>0.68844</td>\n",
       "      <td>0.32787</td>\n",
       "      <td>0.35354</td>\n",
       "      <td>0.19858</td>\n",
       "      <td>0.64232</td>\n",
       "      <td>0.94364</td>\n",
       "      <td>0.26667</td>\n",
       "      <td>1.00000</td>\n",
       "    </tr>\n",
       "  </tbody>\n",
       "</table>\n",
       "</div>"
      ],
      "text/plain": [
       "   Pregnancies  Glucose  BloodPressure  SkinThickness  Insulin     BMI  \\\n",
       "0      0.35294  0.74372        0.59016        0.35354  0.00000 0.50075   \n",
       "1      0.05882  0.42714        0.54098        0.29293  0.00000 0.39642   \n",
       "2      0.47059  0.91960        0.52459        0.00000  0.00000 0.34724   \n",
       "3      0.05882  0.44724        0.54098        0.23232  0.11111 0.41878   \n",
       "4      0.00000  0.68844        0.32787        0.35354  0.19858 0.64232   \n",
       "\n",
       "   DiabetesPedigreeFunction     Age  Outcome  \n",
       "0                   0.23442 0.64444  1.00000  \n",
       "1                   0.11657 0.22222  0.00000  \n",
       "2                   0.25363 0.24444  1.00000  \n",
       "3                   0.03800 0.00000  0.00000  \n",
       "4                   0.94364 0.26667  1.00000  "
      ]
     },
     "execution_count": 51,
     "metadata": {},
     "output_type": "execute_result"
    }
   ],
   "source": [
    "# değişkenlerin standartlatırılması\n",
    "scaler = MinMaxScaler()\n",
    "df = pd.DataFrame(scaler.fit_transform(df), columns=df.columns)\n",
    "df.head()"
   ]
  },
  {
   "cell_type": "markdown",
   "id": "823a056c",
   "metadata": {},
   "source": [
    "# BAĞIMLI VE BAĞIMSIZ DEĞİŞKENLER"
   ]
  },
  {
   "cell_type": "code",
   "execution_count": 55,
   "id": "23f66859",
   "metadata": {},
   "outputs": [],
   "source": [
    "y = df[\"Outcome\"]\n",
    "X = df.drop([\"Outcome\"], axis = 1)"
   ]
  },
  {
   "cell_type": "markdown",
   "id": "9a39e48e",
   "metadata": {},
   "source": [
    "# MODEL KURULUMU"
   ]
  },
  {
   "cell_type": "code",
   "execution_count": 59,
   "id": "d3c5ab75",
   "metadata": {},
   "outputs": [
    {
     "data": {
      "text/html": [
       "<style>#sk-container-id-1 {color: black;background-color: white;}#sk-container-id-1 pre{padding: 0;}#sk-container-id-1 div.sk-toggleable {background-color: white;}#sk-container-id-1 label.sk-toggleable__label {cursor: pointer;display: block;width: 100%;margin-bottom: 0;padding: 0.3em;box-sizing: border-box;text-align: center;}#sk-container-id-1 label.sk-toggleable__label-arrow:before {content: \"▸\";float: left;margin-right: 0.25em;color: #696969;}#sk-container-id-1 label.sk-toggleable__label-arrow:hover:before {color: black;}#sk-container-id-1 div.sk-estimator:hover label.sk-toggleable__label-arrow:before {color: black;}#sk-container-id-1 div.sk-toggleable__content {max-height: 0;max-width: 0;overflow: hidden;text-align: left;background-color: #f0f8ff;}#sk-container-id-1 div.sk-toggleable__content pre {margin: 0.2em;color: black;border-radius: 0.25em;background-color: #f0f8ff;}#sk-container-id-1 input.sk-toggleable__control:checked~div.sk-toggleable__content {max-height: 200px;max-width: 100%;overflow: auto;}#sk-container-id-1 input.sk-toggleable__control:checked~label.sk-toggleable__label-arrow:before {content: \"▾\";}#sk-container-id-1 div.sk-estimator input.sk-toggleable__control:checked~label.sk-toggleable__label {background-color: #d4ebff;}#sk-container-id-1 div.sk-label input.sk-toggleable__control:checked~label.sk-toggleable__label {background-color: #d4ebff;}#sk-container-id-1 input.sk-hidden--visually {border: 0;clip: rect(1px 1px 1px 1px);clip: rect(1px, 1px, 1px, 1px);height: 1px;margin: -1px;overflow: hidden;padding: 0;position: absolute;width: 1px;}#sk-container-id-1 div.sk-estimator {font-family: monospace;background-color: #f0f8ff;border: 1px dotted black;border-radius: 0.25em;box-sizing: border-box;margin-bottom: 0.5em;}#sk-container-id-1 div.sk-estimator:hover {background-color: #d4ebff;}#sk-container-id-1 div.sk-parallel-item::after {content: \"\";width: 100%;border-bottom: 1px solid gray;flex-grow: 1;}#sk-container-id-1 div.sk-label:hover label.sk-toggleable__label {background-color: #d4ebff;}#sk-container-id-1 div.sk-serial::before {content: \"\";position: absolute;border-left: 1px solid gray;box-sizing: border-box;top: 0;bottom: 0;left: 50%;z-index: 0;}#sk-container-id-1 div.sk-serial {display: flex;flex-direction: column;align-items: center;background-color: white;padding-right: 0.2em;padding-left: 0.2em;position: relative;}#sk-container-id-1 div.sk-item {position: relative;z-index: 1;}#sk-container-id-1 div.sk-parallel {display: flex;align-items: stretch;justify-content: center;background-color: white;position: relative;}#sk-container-id-1 div.sk-item::before, #sk-container-id-1 div.sk-parallel-item::before {content: \"\";position: absolute;border-left: 1px solid gray;box-sizing: border-box;top: 0;bottom: 0;left: 50%;z-index: -1;}#sk-container-id-1 div.sk-parallel-item {display: flex;flex-direction: column;z-index: 1;position: relative;background-color: white;}#sk-container-id-1 div.sk-parallel-item:first-child::after {align-self: flex-end;width: 50%;}#sk-container-id-1 div.sk-parallel-item:last-child::after {align-self: flex-start;width: 50%;}#sk-container-id-1 div.sk-parallel-item:only-child::after {width: 0;}#sk-container-id-1 div.sk-dashed-wrapped {border: 1px dashed gray;margin: 0 0.4em 0.5em 0.4em;box-sizing: border-box;padding-bottom: 0.4em;background-color: white;}#sk-container-id-1 div.sk-label label {font-family: monospace;font-weight: bold;display: inline-block;line-height: 1.2em;}#sk-container-id-1 div.sk-label-container {text-align: center;}#sk-container-id-1 div.sk-container {/* jupyter's `normalize.less` sets `[hidden] { display: none; }` but bootstrap.min.css set `[hidden] { display: none !important; }` so we also need the `!important` here to be able to override the default hidden behavior on the sphinx rendered scikit-learn.org. See: https://github.com/scikit-learn/scikit-learn/issues/21755 */display: inline-block !important;position: relative;}#sk-container-id-1 div.sk-text-repr-fallback {display: none;}</style><div id=\"sk-container-id-1\" class=\"sk-top-container\"><div class=\"sk-text-repr-fallback\"><pre>LGBMClassifier()</pre><b>In a Jupyter environment, please rerun this cell to show the HTML representation or trust the notebook. <br />On GitHub, the HTML representation is unable to render, please try loading this page with nbviewer.org.</b></div><div class=\"sk-container\" hidden><div class=\"sk-item\"><div class=\"sk-estimator sk-toggleable\"><input class=\"sk-toggleable__control sk-hidden--visually\" id=\"sk-estimator-id-1\" type=\"checkbox\" checked><label for=\"sk-estimator-id-1\" class=\"sk-toggleable__label sk-toggleable__label-arrow\">LGBMClassifier</label><div class=\"sk-toggleable__content\"><pre>LGBMClassifier()</pre></div></div></div></div></div>"
      ],
      "text/plain": [
       "LGBMClassifier()"
      ]
     },
     "execution_count": 59,
     "metadata": {},
     "output_type": "execute_result"
    }
   ],
   "source": [
    "model = LGBMClassifier()\n",
    "model.fit(X, y)"
   ]
  },
  {
   "cell_type": "code",
   "execution_count": 60,
   "id": "cd658a60",
   "metadata": {},
   "outputs": [],
   "source": [
    "# MODEL FİT EDİLDİKTEN SONRA DİREKT CROSS VALIDATION İŞLEMİ İÇİN KULLANILABİLİR ANCAK ÖNCELİKLE HİPERPARAMETRE OPT. YAPACAĞIZ."
   ]
  },
  {
   "cell_type": "markdown",
   "id": "c9dcaf68",
   "metadata": {},
   "source": [
    "# HİPERPARAMETRE OPT."
   ]
  },
  {
   "cell_type": "code",
   "execution_count": 61,
   "id": "432955ce",
   "metadata": {},
   "outputs": [
    {
     "name": "stdout",
     "output_type": "stream",
     "text": [
      "Fitting 5 folds for each of 48 candidates, totalling 240 fits\n"
     ]
    }
   ],
   "source": [
    "lgbm_params = {\"learning_rate\": [0.01, 0.02, 0.05, 0.1],\n",
    "               \"n_estimators\": [200, 300, 350, 400],\n",
    "               \"colsample_bytree\": [0.9, 0.8, 1]}\n",
    "\n",
    "lgbm_best_grid = GridSearchCV(model, lgbm_params, cv=5, n_jobs=-1, verbose=True).fit(X, y)"
   ]
  },
  {
   "cell_type": "code",
   "execution_count": 62,
   "id": "3c87f541",
   "metadata": {},
   "outputs": [],
   "source": [
    "lgbm_final = model.set_params(**lgbm_best_grid.best_params_, random_state=17).fit(X, y)"
   ]
  },
  {
   "cell_type": "markdown",
   "id": "08c2d59f",
   "metadata": {},
   "source": [
    "# 5 KATLI CROSS VAL"
   ]
  },
  {
   "cell_type": "code",
   "execution_count": 72,
   "id": "279db060",
   "metadata": {},
   "outputs": [],
   "source": [
    "cv_results = cross_validate(lgbm_final, X, y, cv=5, scoring=[\"accuracy\", \"f1\", \"roc_auc\"])"
   ]
  },
  {
   "cell_type": "code",
   "execution_count": 73,
   "id": "a7dd79af",
   "metadata": {},
   "outputs": [
    {
     "data": {
      "text/plain": [
       "0.7628616242593239"
      ]
     },
     "execution_count": 73,
     "metadata": {},
     "output_type": "execute_result"
    }
   ],
   "source": [
    "cv_results[\"test_accuracy\"].mean()"
   ]
  },
  {
   "cell_type": "code",
   "execution_count": 74,
   "id": "5c952a6a",
   "metadata": {},
   "outputs": [
    {
     "data": {
      "text/plain": [
       "0.6127301199002304"
      ]
     },
     "execution_count": 74,
     "metadata": {},
     "output_type": "execute_result"
    }
   ],
   "source": [
    "cv_results[\"test_f1\"].mean()"
   ]
  },
  {
   "cell_type": "code",
   "execution_count": 75,
   "id": "606fc061",
   "metadata": {},
   "outputs": [
    {
     "data": {
      "text/plain": [
       "0.8285906815556411"
      ]
     },
     "execution_count": 75,
     "metadata": {},
     "output_type": "execute_result"
    }
   ],
   "source": [
    "cv_results[\"test_roc_auc\"].mean()"
   ]
  },
  {
   "cell_type": "code",
   "execution_count": null,
   "id": "624ba2da",
   "metadata": {},
   "outputs": [],
   "source": [
    "# Çeşitli Hiperparametreler ile ve model değişimi ile sonuçlar iyileştirilebilir."
   ]
  }
 ],
 "metadata": {
  "kernelspec": {
   "display_name": "Python 3",
   "language": "python",
   "name": "python3"
  },
  "language_info": {
   "codemirror_mode": {
    "name": "ipython",
    "version": 3
   },
   "file_extension": ".py",
   "mimetype": "text/x-python",
   "name": "python",
   "nbconvert_exporter": "python",
   "pygments_lexer": "ipython3",
   "version": "3.8.8"
  }
 },
 "nbformat": 4,
 "nbformat_minor": 5
}
